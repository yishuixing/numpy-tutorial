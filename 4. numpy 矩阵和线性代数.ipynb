{
 "cells": [
  {
   "cell_type": "markdown",
   "metadata": {},
   "source": [
    "# 1. NumPy 字节交换"
   ]
  },
  {
   "cell_type": "code",
   "execution_count": 2,
   "metadata": {},
   "outputs": [
    {
     "name": "stdout",
     "output_type": "stream",
     "text": [
      "我们的数组是：\n",
      "[   1  256 8755]\n",
      "以十六进制表示内存中的数据：\n",
      "<map object at 0x00000224602EA9B0>\n",
      "调用 byteswap() 函数：\n",
      "[  256     1 13090]\n",
      "十六进制形式：\n",
      "<map object at 0x00000224602EA940>\n"
     ]
    }
   ],
   "source": [
    "'''在几乎所有的机器上，多字节对象都被存储为连续的字节序列。字节顺序，是跨越多字节的程序对象的存储规则。\n",
    "\n",
    "大端模式：指数据的高字节保存在内存的低地址中，而数据的低字节保存在内存的高地址中，这样的存储模式有点儿类似于把数据当作字符串顺序处理：地址由小向大增加，而数据从高位往低位放；这和我们的阅读习惯一致。\n",
    "\n",
    "小端模式：指数据的高字节保存在内存的高地址中，而数据的低字节保存在内存的低地址中，这种存储模式将地址的高低和数据位权有效地结合起来，高地址部分权值高，低地址部分权值低\n",
    "\n",
    "numpy.ndarray.byteswap() 函数将 ndarray 中每个元素中的字节进行大小端转换\n",
    "'''\n",
    "import numpy as np \n",
    "a = np.array([1,  256,  8755], dtype = np.int16)  \n",
    "print ('我们的数组是：')\n",
    "print (a)\n",
    "print ('以十六进制表示内存中的数据：')\n",
    "print (map(hex,a))\n",
    "# byteswap() 函数通过传入 true 来原地交换 \n",
    "print ('调用 byteswap() 函数：')\n",
    "print (a.byteswap(True))\n",
    "print ('十六进制形式：')\n",
    "print (map(hex,a))\n",
    "# 我们可以看到字节已经交换了"
   ]
  },
  {
   "cell_type": "markdown",
   "metadata": {},
   "source": [
    "# 2 NumPy 副本和视图"
   ]
  },
  {
   "cell_type": "code",
   "execution_count": 3,
   "metadata": {},
   "outputs": [
    {
     "name": "stdout",
     "output_type": "stream",
     "text": [
      "我们的数组是：\n",
      "[0 1 2 3 4 5]\n",
      "调用 id() 函数：\n",
      "2355512481632\n",
      "a 赋值给 b：\n",
      "[0 1 2 3 4 5]\n",
      "b 拥有相同 id()：\n",
      "2355512481632\n",
      "修改 b 的形状：\n",
      "[[0 1]\n",
      " [2 3]\n",
      " [4 5]]\n",
      "a 的形状也修改了：\n",
      "[[0 1]\n",
      " [2 3]\n",
      " [4 5]]\n"
     ]
    }
   ],
   "source": [
    "'''\n",
    "副本是一个数据的完整的拷贝，如果我们对副本进行修改，它不会影响到原始数据，物理内存不在同一位置。\n",
    "\n",
    "视图是数据的一个别称或引用，通过该别称或引用亦便可访问、操作原有数据，但原有数据不会产生拷贝。如果我们对视图进行修改，它会影响到原始数据，物理内存在同一位置。\n",
    "\n",
    "视图一般发生在：\n",
    "\n",
    "1、numpy 的切片操作返回原数据的视图。\n",
    "2、调用 ndarray 的 view() 函数产生一个视图。\n",
    "副本一般发生在：\n",
    "\n",
    "Python 序列的切片操作，调用deepCopy()函数。\n",
    "调用 ndarray 的 copy() 函数产生一个副本。\n",
    "无复制\n",
    "简单的赋值不会创建数组对象的副本。 相反，它使用原始数组的相同id()来访问它。 id()返回 Python 对象的通用标识符，类似于 C 中的指针。\n",
    "\n",
    "此外，一个数组的任何变化都反映在另一个数组上。 例如，一个数组的形状改变也会改变另一个数组的形状\n",
    "'''\n",
    "a = np.arange(6)  \n",
    "print ('我们的数组是：')\n",
    "print (a)\n",
    "print ('调用 id() 函数：')\n",
    "print (id(a))\n",
    "print ('a 赋值给 b：')\n",
    "b = a \n",
    "print (b)\n",
    "print ('b 拥有相同 id()：')\n",
    "print (id(b))\n",
    "print ('修改 b 的形状：')\n",
    "b.shape =  3,2  \n",
    "print (b)\n",
    "print ('a 的形状也修改了：')\n",
    "print (a)"
   ]
  },
  {
   "cell_type": "code",
   "execution_count": 4,
   "metadata": {},
   "outputs": [
    {
     "name": "stdout",
     "output_type": "stream",
     "text": [
      "数组 a：\n",
      "[[0 1]\n",
      " [2 3]\n",
      " [4 5]]\n",
      "创建 a 的视图：\n",
      "[[0 1]\n",
      " [2 3]\n",
      " [4 5]]\n",
      "两个数组的 id() 不同：\n",
      "a 的 id()：\n",
      "2355512482192\n",
      "b 的 id()：\n",
      "2355512482352\n",
      "b 的形状：\n",
      "[[0 1 2]\n",
      " [3 4 5]]\n",
      "a 的形状：\n",
      "[[0 1]\n",
      " [2 3]\n",
      " [4 5]]\n"
     ]
    }
   ],
   "source": [
    "'''ndarray.view() 方会创建一个新的数组对象，该方法创建的新数组的维数更改不会更改原始数据的维数'''\n",
    "# 最开始 a 是个 3X2 的数组\n",
    "a = np.arange(6).reshape(3,2)  \n",
    "print ('数组 a：')\n",
    "print (a)\n",
    "print ('创建 a 的视图：')\n",
    "b = a.view()  \n",
    "print (b)\n",
    "print ('两个数组的 id() 不同：')\n",
    "print ('a 的 id()：')\n",
    "print (id(a))\n",
    "print ('b 的 id()：' )\n",
    "print (id(b))\n",
    "# 修改 b 的形状，并不会修改 a\n",
    "b.shape =  2,3\n",
    "print ('b 的形状：')\n",
    "print (b)\n",
    "print ('a 的形状：')\n",
    "print (a)"
   ]
  },
  {
   "cell_type": "code",
   "execution_count": 5,
   "metadata": {},
   "outputs": [
    {
     "name": "stdout",
     "output_type": "stream",
     "text": [
      "我们的数组：\n",
      "[ 0  1  2  3  4  5  6  7  8  9 10 11]\n",
      "创建切片：\n",
      "[  0   1   2   3 123 234   6   7   8   9  10  11]\n",
      "2355256085680 2355512482192 2355256085600\n"
     ]
    }
   ],
   "source": [
    "'''使用切片创建视图修改数据会影响到原始数组\n",
    "\n",
    "变量 a,b 都是 arr 的一部分视图，对视图的修改会直接反映到原数据中。\n",
    "但是我们观察 a,b 的 id，他们是不同的，也就是说，视图虽然指向原数据，但是他们和赋值引用还是有区别的\n",
    "'''\n",
    "arr = np.arange(12)\n",
    "print ('我们的数组：')\n",
    "print (arr)\n",
    "print ('创建切片：')\n",
    "a=arr[3:]\n",
    "b=arr[3:]\n",
    "a[1]=123\n",
    "b[2]=234\n",
    "print(arr)\n",
    "print(id(a),id(b),id(arr[3:]))"
   ]
  },
  {
   "cell_type": "code",
   "execution_count": 6,
   "metadata": {},
   "outputs": [
    {
     "name": "stdout",
     "output_type": "stream",
     "text": [
      "数组 a：\n",
      "[[10 10]\n",
      " [ 2  3]\n",
      " [ 4  5]]\n",
      "创建 a 的深层副本：\n",
      "数组 b：\n",
      "[[10 10]\n",
      " [ 2  3]\n",
      " [ 4  5]]\n",
      "我们能够写入 b 来写入 a 吗？\n",
      "False\n",
      "修改 b 的内容：\n",
      "修改后的数组 b：\n",
      "[[100  10]\n",
      " [  2   3]\n",
      " [  4   5]]\n",
      "a 保持不变：\n",
      "[[10 10]\n",
      " [ 2  3]\n",
      " [ 4  5]]\n"
     ]
    }
   ],
   "source": [
    "'''ndarray.copy() 函数创建一个副本。 对副本数据进行修改，不会影响到原始数据，它们物理内存不在同一位置'''\n",
    "a = np.array([[10,10],  [2,3],  [4,5]])  \n",
    "print ('数组 a：')\n",
    "print (a)\n",
    "print ('创建 a 的深层副本：')\n",
    "b = a.copy()  \n",
    "print ('数组 b：')\n",
    "print (b)\n",
    "# b 与 a 不共享任何内容  \n",
    "print ('我们能够写入 b 来写入 a 吗？')\n",
    "print (b is a)\n",
    "print ('修改 b 的内容：')\n",
    "b[0,0]  =  100  \n",
    "print ('修改后的数组 b：')\n",
    "print (b)\n",
    "print ('a 保持不变：')\n",
    "print (a)"
   ]
  },
  {
   "cell_type": "markdown",
   "metadata": {},
   "source": [
    "# 3 NumPy 矩阵库(Matrix)"
   ]
  },
  {
   "cell_type": "code",
   "execution_count": 7,
   "metadata": {},
   "outputs": [
    {
     "name": "stdout",
     "output_type": "stream",
     "text": [
      "[[5.e-324 4.e-323]\n",
      " [4.e-323 4.e-323]]\n"
     ]
    }
   ],
   "source": [
    "'''\n",
    "NumPy 中包含了一个矩阵库 numpy.matlib，该模块中的函数返回的是一个矩阵，而不是 ndarray 对象。\n",
    "\n",
    "一个 的矩阵是一个由行（row）列（column）元素排列成的矩形阵列。\n",
    "\n",
    "矩阵里的元素可以是数字、符号或数学式。\n",
    "matlib.empty()\n",
    "matlib.empty() 函数返回一个新的矩阵，语法格式为：\n",
    "\n",
    "numpy.matlib.empty(shape, dtype, order)\n",
    "参数说明：\n",
    "\n",
    "shape: 定义新矩阵形状的整数或整数元组\n",
    "Dtype: 可选，数据类型\n",
    "order: C（行序优先） 或者 F（列序优先）\n",
    "\n",
    "'''\n",
    "import numpy.matlib\n",
    "print (np.matlib.empty((2,2)))\n",
    "# 填充为随机数据"
   ]
  },
  {
   "cell_type": "code",
   "execution_count": 8,
   "metadata": {},
   "outputs": [
    {
     "name": "stdout",
     "output_type": "stream",
     "text": [
      "[[0. 0.]\n",
      " [0. 0.]]\n"
     ]
    }
   ],
   "source": [
    "'''numpy.matlib.zeros() 函数创建一个以 0 填充的矩阵'''\n",
    "print (np.matlib.zeros((2,2)))"
   ]
  },
  {
   "cell_type": "code",
   "execution_count": 9,
   "metadata": {},
   "outputs": [
    {
     "name": "stdout",
     "output_type": "stream",
     "text": [
      "[[1. 1.]\n",
      " [1. 1.]]\n"
     ]
    }
   ],
   "source": [
    "print (np.matlib.ones((2,2)))"
   ]
  },
  {
   "cell_type": "code",
   "execution_count": 10,
   "metadata": {},
   "outputs": [
    {
     "name": "stdout",
     "output_type": "stream",
     "text": [
      "[[1. 0. 0. 0.]\n",
      " [0. 1. 0. 0.]\n",
      " [0. 0. 1. 0.]]\n"
     ]
    }
   ],
   "source": [
    "'''numpy.matlib.eye() 函数返回一个矩阵，对角线元素为 1，其他位置为零。\n",
    "\n",
    "numpy.matlib.eye(n, M,k, dtype)\n",
    "参数说明：\n",
    "\n",
    "n: 返回矩阵的行数\n",
    "M: 返回矩阵的列数，默认为 n\n",
    "k: 对角线的索引\n",
    "dtype: 数据类型'''\n",
    "print (np.matlib.eye(n =  3, M =  4, k =  0, dtype =  float))"
   ]
  },
  {
   "cell_type": "code",
   "execution_count": 11,
   "metadata": {},
   "outputs": [
    {
     "name": "stdout",
     "output_type": "stream",
     "text": [
      "[[1. 0. 0. 0. 0.]\n",
      " [0. 1. 0. 0. 0.]\n",
      " [0. 0. 1. 0. 0.]\n",
      " [0. 0. 0. 1. 0.]\n",
      " [0. 0. 0. 0. 1.]]\n"
     ]
    }
   ],
   "source": [
    "'''numpy.matlib.identity() 函数返回给定大小的单位矩阵。\n",
    "\n",
    "单位矩阵是个方阵，从左上角到右下角的对角线（称为主对角线）上的元素均为 1，除此以外全都为 0'''\n",
    "# 大小为 5，类型位浮点型\n",
    "print (np.matlib.identity(5, dtype =  float))"
   ]
  },
  {
   "cell_type": "code",
   "execution_count": 12,
   "metadata": {},
   "outputs": [
    {
     "name": "stdout",
     "output_type": "stream",
     "text": [
      "[[0.27858482 0.15051876 0.89171042]\n",
      " [0.39260824 0.94696296 0.07582564]\n",
      " [0.08782124 0.67007906 0.28274796]]\n"
     ]
    }
   ],
   "source": [
    "'''numpy.matlib.rand() 函数创建一个给定大小的矩阵，数据是随机填充的'''\n",
    "print (np.matlib.rand(3,3))"
   ]
  },
  {
   "cell_type": "code",
   "execution_count": 13,
   "metadata": {},
   "outputs": [
    {
     "name": "stdout",
     "output_type": "stream",
     "text": [
      "[[1 2]\n",
      " [3 4]]\n"
     ]
    }
   ],
   "source": [
    "'''矩阵总是二维的，而 ndarray 是一个 n 维数组。 两个对象都是可互换的'''\n",
    "i = np.matrix('1,2;3,4')  \n",
    "print (i)"
   ]
  },
  {
   "cell_type": "code",
   "execution_count": 14,
   "metadata": {},
   "outputs": [
    {
     "name": "stdout",
     "output_type": "stream",
     "text": [
      "[[1 2]\n",
      " [3 4]]\n"
     ]
    }
   ],
   "source": [
    "j = np.asarray(i)  \n",
    "print (j)"
   ]
  },
  {
   "cell_type": "code",
   "execution_count": 15,
   "metadata": {},
   "outputs": [
    {
     "name": "stdout",
     "output_type": "stream",
     "text": [
      "[[1 2]\n",
      " [3 4]]\n"
     ]
    }
   ],
   "source": [
    "k = np.asmatrix (j)  \n",
    "print (k)"
   ]
  },
  {
   "cell_type": "markdown",
   "metadata": {},
   "source": [
    "# 4 NumPy 线性代数"
   ]
  },
  {
   "cell_type": "code",
   "execution_count": 17,
   "metadata": {},
   "outputs": [
    {
     "name": "stdout",
     "output_type": "stream",
     "text": [
      "[[37 40]\n",
      " [85 92]]\n"
     ]
    }
   ],
   "source": [
    "'''NumPy 提供了线性代数函数库 linalg，该库包含了线性代数所需的所有功能，可以看看下面的说明：\n",
    "\n",
    "函数\t描述\n",
    "dot\t两个数组的点积，即元素对应相乘。\n",
    "vdot\t两个向量的点积\n",
    "inner\t两个数组的内积\n",
    "matmul\t两个数组的矩阵积\n",
    "determinant\t数组的行列式\n",
    "solve\t求解线性矩阵方程\n",
    "inv\t计算矩阵的乘法逆矩阵\n",
    "numpy.dot()\n",
    "numpy.dot() 对于两个一维的数组，计算的是这两个数组对应下标元素的乘积和(数学上称之为内积)；\n",
    "对于二维数组，计算的是两个数组的矩阵乘积；对于多维数组，它的通用计算公式如下，\n",
    "即结果数组中的每个元素都是：数组a的最后一维上的所有元素与数组b的倒数第二位上的所有元素的乘积和：\n",
    "dot(a, b)[i,j,k,m] = sum(a[i,j,:] * b[k,:,m])'''\n",
    "a = np.array([[1,2],[3,4]])\n",
    "b = np.array([[11,12],[13,14]])\n",
    "print(np.dot(a,b))"
   ]
  },
  {
   "cell_type": "code",
   "execution_count": 18,
   "metadata": {},
   "outputs": [
    {
     "name": "stdout",
     "output_type": "stream",
     "text": [
      "130\n"
     ]
    }
   ],
   "source": [
    "'''numpy.vdot() 函数是两个向量的点积。 如果第一个参数是复数，那么它的共轭复数会用于计算。 如果参数是多维数组，它会被展开。'''\n",
    "a = np.array([[1,2],[3,4]]) \n",
    "b = np.array([[11,12],[13,14]]) \n",
    " \n",
    "# vdot 将数组展开计算内积\n",
    "print (np.vdot(a,b))"
   ]
  },
  {
   "cell_type": "code",
   "execution_count": 19,
   "metadata": {},
   "outputs": [
    {
     "name": "stdout",
     "output_type": "stream",
     "text": [
      "2\n"
     ]
    }
   ],
   "source": [
    "'''numpy.inner() 函数返回一维数组的向量内积。对于更高的维度，它返回最后一个轴上的和的乘积'''\n",
    "print (np.inner(np.array([1,2,3]),np.array([0,1,0])))\n",
    "# 等价于 1*0+2*1+3*0"
   ]
  },
  {
   "cell_type": "code",
   "execution_count": 20,
   "metadata": {},
   "outputs": [
    {
     "name": "stdout",
     "output_type": "stream",
     "text": [
      "数组 a：\n",
      "[[1 2]\n",
      " [3 4]]\n",
      "数组 b：\n",
      "[[11 12]\n",
      " [13 14]]\n",
      "内积：\n",
      "[[35 41]\n",
      " [81 95]]\n"
     ]
    }
   ],
   "source": [
    "# 多维数组实例\n",
    "a = np.array([[1,2], [3,4]]) \n",
    " \n",
    "print ('数组 a：')\n",
    "print (a)\n",
    "b = np.array([[11, 12], [13, 14]]) \n",
    " \n",
    "print ('数组 b：')\n",
    "print (b)\n",
    " \n",
    "print ('内积：')\n",
    "print (np.inner(a,b))"
   ]
  },
  {
   "cell_type": "code",
   "execution_count": 21,
   "metadata": {},
   "outputs": [
    {
     "name": "stdout",
     "output_type": "stream",
     "text": [
      "[[4 1]\n",
      " [2 2]]\n"
     ]
    }
   ],
   "source": [
    "'''numpy.matmul 函数返回两个数组的矩阵乘积。 虽然它返回二维数组的正常乘积，但如果任一参数的维数大于2，则将其视为存在于最后两个索引的矩阵的栈，并进行相应广播。\n",
    "\n",
    "另一方面，如果任一参数是一维数组，则通过在其维度上附加 1 来将其提升为矩阵，并在乘法之后被去除。\n",
    "\n",
    "对于二维数组，它就是矩阵乘法'''\n",
    "a = [[1,0],[0,1]] \n",
    "b = [[4,1],[2,2]] \n",
    "print (np.matmul(a,b))"
   ]
  },
  {
   "cell_type": "code",
   "execution_count": 22,
   "metadata": {},
   "outputs": [
    {
     "name": "stdout",
     "output_type": "stream",
     "text": [
      "[1 2]\n",
      "[1 2]\n"
     ]
    }
   ],
   "source": [
    "a = [[1,0],[0,1]] \n",
    "b = [1,2] \n",
    "print (np.matmul(a,b))\n",
    "print (np.matmul(b,a))"
   ]
  },
  {
   "cell_type": "code",
   "execution_count": 23,
   "metadata": {},
   "outputs": [
    {
     "name": "stdout",
     "output_type": "stream",
     "text": [
      "[[[ 2  3]\n",
      "  [ 6 11]]\n",
      "\n",
      " [[10 19]\n",
      "  [14 27]]]\n"
     ]
    }
   ],
   "source": [
    "a = np.arange(8).reshape(2,2,2) \n",
    "b = np.arange(4).reshape(2,2) \n",
    "print (np.matmul(a,b))"
   ]
  },
  {
   "cell_type": "code",
   "execution_count": 24,
   "metadata": {},
   "outputs": [
    {
     "name": "stdout",
     "output_type": "stream",
     "text": [
      "-2.0000000000000004\n"
     ]
    }
   ],
   "source": [
    "'''numpy.linalg.det() 函数计算输入矩阵的行列式。\n",
    "\n",
    "行列式在线性代数中是非常有用的值。 它从方阵的对角元素计算。 对于 2×2 矩阵，它是左上和右下元素的乘积与其他两个的乘积的差。\n",
    "\n",
    "换句话说，对于矩阵[[a，b]，[c，d]]，行列式计算为 ad-bc。 较大的方阵被认为是 2×2 矩阵的组合'''\n",
    "a = np.array([[1,2], [3,4]]) \n",
    " \n",
    "print (np.linalg.det(a))"
   ]
  },
  {
   "cell_type": "code",
   "execution_count": 25,
   "metadata": {},
   "outputs": [
    {
     "name": "stdout",
     "output_type": "stream",
     "text": [
      "[[ 6  1  1]\n",
      " [ 4 -2  5]\n",
      " [ 2  8  7]]\n",
      "-306.0\n",
      "-306\n"
     ]
    }
   ],
   "source": [
    "b = np.array([[6,1,1], [4, -2, 5], [2,8,7]]) \n",
    "print (b)\n",
    "print (np.linalg.det(b))\n",
    "print (6*(-2*7 - 5*8) - 1*(4*7 - 5*2) + 1*(4*8 - -2*2))"
   ]
  },
  {
   "cell_type": "code",
   "execution_count": 26,
   "metadata": {},
   "outputs": [
    {
     "data": {
      "text/plain": [
       "'numpy.linalg.solve() 函数给出了矩阵形式的线性方程的解'"
      ]
     },
     "execution_count": 26,
     "metadata": {},
     "output_type": "execute_result"
    }
   ],
   "source": [
    "'''numpy.linalg.solve() 函数给出了矩阵形式的线性方程的解'''"
   ]
  },
  {
   "cell_type": "code",
   "execution_count": 27,
   "metadata": {},
   "outputs": [
    {
     "name": "stdout",
     "output_type": "stream",
     "text": [
      "[[1 2]\n",
      " [3 4]]\n",
      "[[-2.   1. ]\n",
      " [ 1.5 -0.5]]\n",
      "[[1.0000000e+00 0.0000000e+00]\n",
      " [8.8817842e-16 1.0000000e+00]]\n"
     ]
    }
   ],
   "source": [
    "'''numpy.linalg.inv() 函数计算矩阵的乘法逆矩阵。\n",
    "\n",
    "逆矩阵（inverse matrix）：设A是数域上的一个n阶矩阵，若在相同数域上存在另一个n阶矩阵B，\n",
    "使得： AB=BA=E ，则我们称B是A的逆矩阵，而A则被称为可逆矩阵。注：E为单位矩阵'''\n",
    "x = np.array([[1,2],[3,4]]) \n",
    "y = np.linalg.inv(x) \n",
    "print (x)\n",
    "print (y)\n",
    "print (np.dot(x,y))"
   ]
  },
  {
   "cell_type": "code",
   "execution_count": 28,
   "metadata": {},
   "outputs": [
    {
     "name": "stdout",
     "output_type": "stream",
     "text": [
      "数组 a：\n",
      "[[ 1  1  1]\n",
      " [ 0  2  5]\n",
      " [ 2  5 -1]]\n",
      "a 的逆：\n",
      "[[ 1.28571429 -0.28571429 -0.14285714]\n",
      " [-0.47619048  0.14285714  0.23809524]\n",
      " [ 0.19047619  0.14285714 -0.0952381 ]]\n",
      "矩阵 b：\n",
      "[[ 6]\n",
      " [-4]\n",
      " [27]]\n",
      "计算：A^(-1)B：\n",
      "[[ 5.]\n",
      " [ 3.]\n",
      " [-2.]]\n"
     ]
    }
   ],
   "source": [
    "a = np.array([[1,1,1],[0,2,5],[2,5,-1]]) \n",
    " \n",
    "print ('数组 a：')\n",
    "print (a)\n",
    "ainv = np.linalg.inv(a) \n",
    " \n",
    "print ('a 的逆：')\n",
    "print (ainv)\n",
    " \n",
    "print ('矩阵 b：')\n",
    "b = np.array([[6],[-4],[27]]) \n",
    "print (b)\n",
    " \n",
    "print ('计算：A^(-1)B：')\n",
    "x = np.linalg.solve(a,b) \n",
    "print (x)\n",
    "# 这就是线性方向 x = 5, y = 3, z = -2 的解"
   ]
  },
  {
   "cell_type": "code",
   "execution_count": 30,
   "metadata": {},
   "outputs": [
    {
     "data": {
      "text/plain": [
       "array([[ 5.],\n",
       "       [ 3.],\n",
       "       [-2.]])"
      ]
     },
     "execution_count": 30,
     "metadata": {},
     "output_type": "execute_result"
    }
   ],
   "source": [
    "# 结果\n",
    "x = np.dot(ainv,b)\n",
    "x"
   ]
  },
  {
   "cell_type": "markdown",
   "metadata": {},
   "source": [
    "# 5 NumPy IO"
   ]
  },
  {
   "cell_type": "code",
   "execution_count": 31,
   "metadata": {},
   "outputs": [],
   "source": [
    "'''Numpy 可以读写磁盘上的文本数据或二进制数据。\n",
    "\n",
    "NumPy 为 ndarray 对象引入了一个简单的文件格式：npy。\n",
    "\n",
    "npy 文件用于存储重建 ndarray 所需的数据、图形、dtype 和其他信息。\n",
    "\n",
    "常用的 IO 函数有：\n",
    "\n",
    "load() 和 save() 函数是读写文件数组数据的两个主要函数，默认情况下，数组是以未压缩的原始二进制格式保存在扩展名为 .npy 的文件中。\n",
    "savze() 函数用于将多个数组写入文件，默认情况下，数组是以未压缩的原始二进制格式保存在扩展名为 .npz 的文件中。\n",
    "loadtxt() 和 savetxt() 函数处理正常的文本文件(.txt 等)\n",
    "\n",
    "numpy.save() 函数将数组保存到以 .npy 为扩展名的文件中。\n",
    "\n",
    "numpy.save(file, arr, allow_pickle=True, fix_imports=True)\n",
    "参数说明：\n",
    "\n",
    "file：要保存的文件，扩展名为 .npy，如果文件路径末尾没有扩展名 .npy，该扩展名会被自动加上。\n",
    "arr: 要保存的数组\n",
    "allow_pickle: 可选，布尔值，允许使用 Python pickles 保存对象数组，Python 中的 pickle 用于在保存到磁盘文件或从磁盘文件读取之前，对对象进行序列化和反序列化。\n",
    "fix_imports: 可选，为了方便 Pyhton2 中读取 Python3 保存的数据\n",
    "'''\n",
    "a = np.array([1,2,3,4,5]) \n",
    " \n",
    "# 保存到 outfile.npy 文件上\n",
    "np.save('outfile.npy',a) \n",
    " \n",
    "# 保存到 outfile2.npy 文件上，如果文件路径末尾没有扩展名 .npy，该扩展名会被自动加上\n",
    "np.save('outfile2',a)"
   ]
  },
  {
   "cell_type": "code",
   "execution_count": 32,
   "metadata": {},
   "outputs": [
    {
     "name": "stdout",
     "output_type": "stream",
     "text": [
      "[1 2 3 4 5]\n"
     ]
    }
   ],
   "source": [
    "b = np.load('outfile.npy')  \n",
    "print (b)"
   ]
  },
  {
   "cell_type": "code",
   "execution_count": 33,
   "metadata": {},
   "outputs": [
    {
     "name": "stdout",
     "output_type": "stream",
     "text": [
      "['sin_array', 'arr_0', 'arr_1']\n",
      "[[1 2 3]\n",
      " [4 5 6]]\n",
      "[0.  0.1 0.2 0.3 0.4 0.5 0.6 0.7 0.8 0.9]\n",
      "[0.         0.09983342 0.19866933 0.29552021 0.38941834 0.47942554\n",
      " 0.56464247 0.64421769 0.71735609 0.78332691]\n"
     ]
    }
   ],
   "source": [
    "'''numpy.savez() 函数将多个数组保存到以 npz 为扩展名的文件中。\n",
    "\n",
    "numpy.savez(file, *args, **kwds)\n",
    "参数说明：\n",
    "\n",
    "file：要保存的文件，扩展名为 .npz，如果文件路径末尾没有扩展名 .npz，该扩展名会被自动加上。\n",
    "args: 要保存的数组，可以使用关键字参数为数组起一个名字，非关键字参数传递的数组会自动起名为 arr_0, arr_1, …　。\n",
    "kwds: 要保存的数组使用关键字名称'''\n",
    "a = np.array([[1,2,3],[4,5,6]])\n",
    "b = np.arange(0, 1.0, 0.1)\n",
    "c = np.sin(b)\n",
    "# c 使用了关键字参数 sin_array\n",
    "np.savez(\"runoob.npz\", a, b, sin_array = c)\n",
    "r = np.load(\"runoob.npz\")  \n",
    "print(r.files) # 查看各个数组名称\n",
    "print(r[\"arr_0\"]) # 数组 a\n",
    "print(r[\"arr_1\"]) # 数组 b\n",
    "print(r[\"sin_array\"]) # 数组 c"
   ]
  },
  {
   "cell_type": "code",
   "execution_count": 34,
   "metadata": {},
   "outputs": [
    {
     "name": "stdout",
     "output_type": "stream",
     "text": [
      "[1. 2. 3. 4. 5.]\n"
     ]
    }
   ],
   "source": [
    "'''savetxt() 函数是以简单的文本文件格式存储数据，对应的使用 loadtxt() 函数来获取数据。\n",
    "\n",
    "np.loadtxt(FILENAME, dtype=int, delimiter=' ')\n",
    "np.savetxt(FILENAME, a, fmt=\"%d\", delimiter=\",\")\n",
    "参数 delimiter 可以指定各种分隔符、针对特定列的转换器函数、需要跳过的行数等'''\n",
    "a = np.array([1,2,3,4,5]) \n",
    "np.savetxt('out.txt',a) \n",
    "b = np.loadtxt('out.txt')  \n",
    " \n",
    "print(b)"
   ]
  },
  {
   "cell_type": "code",
   "execution_count": 35,
   "metadata": {},
   "outputs": [
    {
     "name": "stdout",
     "output_type": "stream",
     "text": [
      "[[0. 0. 1. 1. 2.]\n",
      " [2. 3. 3. 4. 4.]\n",
      " [5. 5. 6. 6. 7.]\n",
      " [7. 8. 8. 9. 9.]]\n"
     ]
    }
   ],
   "source": [
    "a=np.arange(0,10,0.5).reshape(4,-1)\n",
    "np.savetxt(\"out.txt\",a,fmt=\"%d\",delimiter=\",\") # 改为保存为整数，以逗号分隔\n",
    "b = np.loadtxt(\"out.txt\",delimiter=\",\") # load 时也要指定为逗号分隔\n",
    "print(b)"
   ]
  },
  {
   "cell_type": "markdown",
   "metadata": {},
   "source": [
    "# 6 NumPy Matplotlib"
   ]
  },
  {
   "cell_type": "code",
   "execution_count": 38,
   "metadata": {},
   "outputs": [
    {
     "data": {
      "image/png": "[encoded data removed]",
      "text/plain": [
       "<Figure size 432x288 with 1 Axes>"
      ]
     },
     "metadata": {
      "needs_background": "light"
     },
     "output_type": "display_data"
    }
   ],
   "source": [
    "'''Matplotlib 是 Python 的绘图库。 它可与 NumPy 一起使用，提供了一种有效的 MatLab 开源替代方案。\n",
    "它也可以和图形工具包一起使用，如 PyQt 和 wxPython'''\n",
    "from matplotlib import pyplot as plt \n",
    "%matplotlib inline \n",
    "x = np.arange(1,11) \n",
    "y =  2  * x +  5 \n",
    "plt.title(\"Matplotlib demo\") \n",
    "plt.xlabel(\"x axis caption\") \n",
    "plt.ylabel(\"y axis caption\") \n",
    "plt.plot(x,y) \n",
    "plt.show()"
   ]
  },
  {
   "cell_type": "code",
   "execution_count": 44,
   "metadata": {},
   "outputs": [
    {
     "ename": "NameError",
     "evalue": "name 'matplotlib' is not defined",
     "output_type": "error",
     "traceback": [
      "\u001b[1;31m---------------------------------------------------------------------------\u001b[0m",
      "\u001b[1;31mNameError\u001b[0m                                 Traceback (most recent call last)",
      "\u001b[1;32m<ipython-input-44-4c60f3cf3246>\u001b[0m in \u001b[0;36m<module>\u001b[1;34m\u001b[0m\n\u001b[0;32m      6\u001b[0m \u001b[0mfname\u001b[0m \u001b[0m为\u001b[0m \u001b[0m你下载的字体库路径\u001b[0m\u001b[0;31m，\u001b[0m\u001b[0m注意\u001b[0m \u001b[0mSimHei\u001b[0m\u001b[1;33m.\u001b[0m\u001b[0mttf\u001b[0m \u001b[0m字体的路径\u001b[0m\u001b[1;33m\u001b[0m\u001b[1;33m\u001b[0m\u001b[0m\n\u001b[0;32m      7\u001b[0m '''\n\u001b[1;32m----> 8\u001b[1;33m \u001b[0mzhfont1\u001b[0m \u001b[1;33m=\u001b[0m \u001b[0mmatplotlib\u001b[0m\u001b[1;33m.\u001b[0m\u001b[0mfont_manager\u001b[0m\u001b[1;33m.\u001b[0m\u001b[0mFontProperties\u001b[0m\u001b[1;33m(\u001b[0m\u001b[0mfname\u001b[0m\u001b[1;33m=\u001b[0m\u001b[1;34m\"SimHei.ttf\"\u001b[0m\u001b[1;33m)\u001b[0m\u001b[1;33m\u001b[0m\u001b[1;33m\u001b[0m\u001b[0m\n\u001b[0m\u001b[0;32m      9\u001b[0m \u001b[1;33m\u001b[0m\u001b[0m\n\u001b[0;32m     10\u001b[0m \u001b[0mx\u001b[0m \u001b[1;33m=\u001b[0m \u001b[0mnp\u001b[0m\u001b[1;33m.\u001b[0m\u001b[0marange\u001b[0m\u001b[1;33m(\u001b[0m\u001b[1;36m1\u001b[0m\u001b[1;33m,\u001b[0m\u001b[1;36m11\u001b[0m\u001b[1;33m)\u001b[0m\u001b[1;33m\u001b[0m\u001b[1;33m\u001b[0m\u001b[0m\n",
      "\u001b[1;31mNameError\u001b[0m: name 'matplotlib' is not defined"
     ]
    }
   ],
   "source": [
    "'''Matplotlib 默认情况不支持中文，我们可以使用以下简单的方法来解决：\n",
    "\n",
    "首先下载字体（注意系统）：https://www.fontpalace.com/font-details/SimHei/\n",
    "\n",
    "SimHei.ttf 文件放在当前执行的代码文件中\n",
    "fname 为 你下载的字体库路径，注意 SimHei.ttf 字体的路径\n",
    "'''\n",
    "zhfont1 = matplotlib.font_manager.FontProperties(fname=\"SimHei.ttf\") \n",
    " \n",
    "x = np.arange(1,11) \n",
    "y =  2  * x +  5 \n",
    "plt.title(\"易水行numpy教程 - 测试\", fontproperties=zhfont1) \n",
    " \n",
    "# fontproperties 设置中文显示，fontsize 设置字体大小\n",
    "plt.xlabel(\"x 轴\", fontproperties=zhfont1)\n",
    "plt.ylabel(\"y 轴\", fontproperties=zhfont1)\n",
    "plt.plot(x,y) \n",
    "plt.show()"
   ]
  },
  {
   "cell_type": "code",
   "execution_count": 45,
   "metadata": {},
   "outputs": [
    {
     "name": "stdout",
     "output_type": "stream",
     "text": [
      "Arial\n",
      "Arial\n",
      "Arial\n",
      "Arial\n",
      "Arial\n",
      "Arial\n",
      "Arial\n",
      "Arial\n",
      "Arial\n",
      "Arial Unicode MS\n",
      "Bahnschrift\n",
      "Book Antiqua\n",
      "Book Antiqua\n",
      "Book Antiqua\n",
      "Book Antiqua\n",
      "Bookman Old Style\n",
      "Bookman Old Style\n",
      "Bookman Old Style\n",
      "Bookman Old Style\n",
      "Bookshelf Symbol 7\n",
      "Calibri\n",
      "Calibri\n",
      "Calibri\n",
      "Calibri\n",
      "Calibri\n",
      "Calibri\n",
      "Cambria\n",
      "Cambria\n",
      "Cambria\n",
      "Cambria\n",
      "Candara\n",
      "Candara\n",
      "Candara\n",
      "Candara\n",
      "Century\n",
      "Century Gothic\n",
      "Century Gothic\n",
      "Century Gothic\n",
      "Century Gothic\n",
      "Comic Sans MS\n",
      "Comic Sans MS\n",
      "Comic Sans MS\n",
      "Comic Sans MS\n",
      "Consolas\n",
      "Consolas\n",
      "Consolas\n",
      "Consolas\n",
      "Constantia\n",
      "Constantia\n",
      "Constantia\n",
      "Constantia\n",
      "Corbel\n",
      "Corbel\n",
      "Corbel\n",
      "Corbel\n",
      "Courier New\n",
      "Courier New\n",
      "Courier New\n",
      "Courier New\n",
      "DejaVu Sans\n",
      "DejaVu Sans\n",
      "DejaVu Sans\n",
      "DejaVu Sans\n",
      "DejaVu Sans Display\n",
      "DejaVu Sans Mono\n",
      "DejaVu Sans Mono\n",
      "DejaVu Sans Mono\n",
      "DejaVu Sans Mono\n",
      "DejaVu Serif\n",
      "DejaVu Serif\n",
      "DejaVu Serif\n",
      "DejaVu Serif\n",
      "DejaVu Serif Display\n",
      "DengXian\n",
      "DengXian\n",
      "DengXian\n",
      "Dubai\n",
      "Dubai\n",
      "Dubai\n",
      "Dubai\n",
      "Ebrima\n",
      "Ebrima\n",
      "FZShuTi\n",
      "FZYaoTi\n",
      "FangSong\n",
      "Franklin Gothic Medium\n",
      "Franklin Gothic Medium\n",
      "Gabriola\n",
      "Gadugi\n",
      "Gadugi\n",
      "Garamond\n",
      "Garamond\n",
      "Garamond\n",
      "Georgia\n",
      "Georgia\n",
      "Georgia\n",
      "Georgia\n",
      "HP Simplified\n",
      "HP Simplified\n",
      "HP Simplified\n",
      "HP Simplified\n",
      "HP Simplified\n",
      "HP Simplified\n",
      "HP Simplified\n",
      "HoloLens MDL2 Assets\n",
      "Impact\n",
      "Ink Free\n",
      "Javanese Text\n",
      "KaiTi\n",
      "Leelawadee\n",
      "Leelawadee\n",
      "Leelawadee UI\n",
      "Leelawadee UI\n",
      "Leelawadee UI\n",
      "LiSu\n",
      "Lucida Console\n",
      "Lucida Sans Unicode\n",
      "MS Gothic\n",
      "MS Reference Sans Serif\n",
      "MS Reference Specialty\n",
      "MT Extra\n",
      "MV Boli\n",
      "Malgun Gothic\n",
      "Malgun Gothic\n",
      "Malgun Gothic\n",
      "Marlett\n",
      "Meiryo\n",
      "Meiryo\n",
      "Microsoft Himalaya\n",
      "Microsoft JhengHei\n",
      "Microsoft JhengHei\n",
      "Microsoft JhengHei\n",
      "Microsoft New Tai Lue\n",
      "Microsoft New Tai Lue\n",
      "Microsoft PhagsPa\n",
      "Microsoft PhagsPa\n",
      "Microsoft Sans Serif\n",
      "Microsoft Tai Le\n",
      "Microsoft Tai Le\n",
      "Microsoft Uighur\n",
      "Microsoft Uighur\n",
      "Microsoft YaHei\n",
      "Microsoft YaHei\n",
      "Microsoft YaHei\n",
      "Microsoft Yi Baiti\n",
      "MingLiU-ExtB\n",
      "Mongolian Baiti\n",
      "Monotype Corsiva\n",
      "Myanmar Text\n",
      "Myanmar Text\n",
      "Nirmala UI\n",
      "Nirmala UI\n",
      "Nirmala UI\n",
      "Palatino Linotype\n",
      "Palatino Linotype\n",
      "Palatino Linotype\n",
      "Palatino Linotype\n",
      "STCaiyun\n",
      "STFangsong\n",
      "STHupo\n",
      "STIXGeneral\n",
      "STIXGeneral\n",
      "STIXGeneral\n",
      "STIXGeneral\n",
      "STIXNonUnicode\n",
      "STIXNonUnicode\n",
      "STIXNonUnicode\n",
      "STIXNonUnicode\n",
      "STIXSizeFiveSym\n",
      "STIXSizeFourSym\n",
      "STIXSizeFourSym\n",
      "STIXSizeOneSym\n",
      "STIXSizeOneSym\n",
      "STIXSizeThreeSym\n",
      "STIXSizeThreeSym\n",
      "STIXSizeTwoSym\n",
      "STIXSizeTwoSym\n",
      "STKaiti\n",
      "STLiti\n",
      "STSong\n",
      "STXihei\n",
      "STXingkai\n",
      "STXinwei\n",
      "STZhongsong\n",
      "Segoe MDL2 Assets\n",
      "Segoe Print\n",
      "Segoe Print\n",
      "Segoe Script\n",
      "Segoe Script\n",
      "Segoe UI\n",
      "Segoe UI\n",
      "Segoe UI\n",
      "Segoe UI\n",
      "Segoe UI\n",
      "Segoe UI\n",
      "Segoe UI\n",
      "Segoe UI\n",
      "Segoe UI\n",
      "Segoe UI\n",
      "Segoe UI\n",
      "Segoe UI\n",
      "Segoe UI Emoji\n",
      "Segoe UI Historic\n",
      "Segoe UI Symbol\n",
      "SimHei\n",
      "SimSun\n",
      "SimSun-ExtB\n",
      "Sitka Small\n",
      "Sitka Small\n",
      "Sitka Small\n",
      "Sitka Small\n",
      "Sylfaen\n",
      "Symbol\n",
      "Tahoma\n",
      "Tahoma\n",
      "Times New Roman\n",
      "Times New Roman\n",
      "Times New Roman\n",
      "Times New Roman\n",
      "Trebuchet MS\n",
      "Trebuchet MS\n",
      "Trebuchet MS\n",
      "Trebuchet MS\n",
      "Verdana\n",
      "Verdana\n",
      "Verdana\n",
      "Verdana\n",
      "Webdings\n",
      "Wingdings\n",
      "Wingdings 2\n",
      "Wingdings 3\n",
      "YouYuan\n",
      "Yu Gothic\n",
      "Yu Gothic\n",
      "Yu Gothic\n",
      "Yu Gothic\n",
      "ZWAdobeF\n",
      "cmb10\n",
      "cmex10\n",
      "cmmi10\n",
      "cmr10\n",
      "cmss10\n",
      "cmsy10\n",
      "cmtt10\n"
     ]
    }
   ],
   "source": [
    "import matplotlib\n",
    "a=sorted([f.name for f in matplotlib.font_manager.fontManager.ttflist])\n",
    "\n",
    "for i in a:\n",
    "    print(i)"
   ]
  },
  {
   "cell_type": "code",
   "execution_count": 46,
   "metadata": {},
   "outputs": [],
   "source": [
    "plt.rcParams['font.family']=['STFangsong']"
   ]
  },
  {
   "cell_type": "code",
   "execution_count": 47,
   "metadata": {},
   "outputs": [
    {
     "data": {
      "image/png": "[encoded data removed]",
      "text/plain": [
       "<Figure size 432x288 with 1 Axes>"
      ]
     },
     "metadata": {
      "needs_background": "light"
     },
     "output_type": "display_data"
    }
   ],
   "source": [
    "'''\n",
    "作为线性图的替代，可以通过向 plot() 函数添加格式字符串来显示离散值。 可以使用以下格式化字符。\n",
    "\n",
    "字符\t描述\n",
    "'-'\t实线样式\n",
    "'--'\t短横线样式\n",
    "'-.'\t点划线样式\n",
    "':'\t虚线样式\n",
    "'.'\t点标记\n",
    "','\t像素标记\n",
    "'o'\t圆标记\n",
    "'v'\t倒三角标记\n",
    "'^'\t正三角标记\n",
    "'&lt;'\t左三角标记\n",
    "'&gt;'\t右三角标记\n",
    "'1'\t下箭头标记\n",
    "'2'\t上箭头标记\n",
    "'3'\t左箭头标记\n",
    "'4'\t右箭头标记\n",
    "'s'\t正方形标记\n",
    "'p'\t五边形标记\n",
    "'*'\t星形标记\n",
    "'h'\t六边形标记 1\n",
    "'H'\t六边形标记 2\n",
    "'+'\t加号标记\n",
    "'x'\tX 标记\n",
    "'D'\t菱形标记\n",
    "'d'\t窄菱形标记\n",
    "'&#124;'\t竖直线标记\n",
    "'_'\t水平线标记\n",
    "以下是颜色的缩写：\n",
    "\n",
    "字符\t颜色\n",
    "'b'\t蓝色\n",
    "'g'\t绿色\n",
    "'r'\t红色\n",
    "'c'\t青色\n",
    "'m'\t品红色\n",
    "'y'\t黄色\n",
    "'k'\t黑色\n",
    "'w'\t白色\n",
    "要显示圆来代表点，而不是上面示例中的线，请使用 ob 作为 plot() 函数中的格式字符串。\n",
    "'''\n",
    "x = np.arange(1,11) \n",
    "y =  2  * x +  5 \n",
    "plt.title(\"Matplotlib demo\") \n",
    "plt.xlabel(\"x axis caption\") \n",
    "plt.ylabel(\"y axis caption\") \n",
    "plt.plot(x,y,\"ob\") \n",
    "plt.show()"
   ]
  },
  {
   "cell_type": "code",
   "execution_count": 48,
   "metadata": {},
   "outputs": [
    {
     "data": {
      "image/png": "[encoded data removed]",
      "text/plain": [
       "<Figure size 432x288 with 1 Axes>"
      ]
     },
     "metadata": {
      "needs_background": "light"
     },
     "output_type": "display_data"
    }
   ],
   "source": [
    "'''使用 matplotlib 生成正弦波图'''\n",
    "# 计算正弦曲线上点的 x 和 y 坐标\n",
    "x = np.arange(0,  3  * np.pi,  0.1) \n",
    "y = np.sin(x)\n",
    "plt.title(\"sine wave form\")  \n",
    "# 使用 matplotlib 来绘制点\n",
    "plt.plot(x, y) \n",
    "plt.show()"
   ]
  },
  {
   "cell_type": "code",
   "execution_count": 49,
   "metadata": {},
   "outputs": [
    {
     "data": {
      "image/png": "[encoded data removed]",
      "text/plain": [
       "<Figure size 432x288 with 2 Axes>"
      ]
     },
     "metadata": {
      "needs_background": "light"
     },
     "output_type": "display_data"
    }
   ],
   "source": [
    "'''subplot() 函数允许你在同一图中绘制不同的东西。\n",
    "\n",
    "以下实例绘制正弦和余弦值'''\n",
    "# 计算正弦和余弦曲线上的点的 x 和 y 坐标 \n",
    "x = np.arange(0,  3  * np.pi,  0.1) \n",
    "y_sin = np.sin(x) \n",
    "y_cos = np.cos(x)  \n",
    "# 建立 subplot 网格，高为 2，宽为 1  \n",
    "# 激活第一个 subplot\n",
    "plt.subplot(2,  1,  1)  \n",
    "# 绘制第一个图像 \n",
    "plt.plot(x, y_sin) \n",
    "plt.title('Sine')  \n",
    "# 将第二个 subplot 激活，并绘制第二个图像\n",
    "plt.subplot(2,  1,  2) \n",
    "plt.plot(x, y_cos) \n",
    "plt.title('Cosine')  \n",
    "# 展示图像\n",
    "plt.show()"
   ]
  },
  {
   "cell_type": "code",
   "execution_count": 50,
   "metadata": {},
   "outputs": [
    {
     "data": {
      "image/png": "[encoded data removed]",
      "text/plain": [
       "<Figure size 432x288 with 1 Axes>"
      ]
     },
     "metadata": {
      "needs_background": "light"
     },
     "output_type": "display_data"
    }
   ],
   "source": [
    "'''pyplot 子模块提供 bar() 函数来生成条形图。\n",
    "\n",
    "以下实例生成两组 x 和 y 数组的条形图'''\n",
    "\n",
    "x =  [5,8,10] \n",
    "y =  [12,16,6] \n",
    "x2 =  [6,9,11] \n",
    "y2 =  [6,15,7] \n",
    "plt.bar(x, y, align =  'center') \n",
    "plt.bar(x2, y2, color =  'g', align =  'center') \n",
    "plt.title('Bar graph') \n",
    "plt.ylabel('Y axis') \n",
    "plt.xlabel('X axis') \n",
    "plt.show()"
   ]
  },
  {
   "cell_type": "code",
   "execution_count": 51,
   "metadata": {},
   "outputs": [
    {
     "name": "stdout",
     "output_type": "stream",
     "text": [
      "[3 4 5 2 1]\n",
      "[  0  20  40  60  80 100]\n"
     ]
    }
   ],
   "source": [
    "'''numpy.histogram() 函数是数据的频率分布的图形表示。 水平尺寸相等的矩形对应于类间隔，称为 bin，变量 height 对应于频率。\n",
    "\n",
    "numpy.histogram()函数将输入数组和 bin 作为两个参数。 bin 数组中的连续元素用作每个 bin 的边界'''\n",
    "\n",
    "\n",
    "a = np.array([22,87,5,43,56,73,55,54,11,20,51,5,79,31,27])\n",
    "np.histogram(a,bins =  [0,20,40,60,80,100]) \n",
    "hist,bins = np.histogram(a,bins =  [0,20,40,60,80,100])  \n",
    "print (hist) \n",
    "print (bins)"
   ]
  },
  {
   "cell_type": "code",
   "execution_count": 52,
   "metadata": {},
   "outputs": [
    {
     "data": {
      "image/png": "[encoded data removed]",
      "text/plain": [
       "<Figure size 432x288 with 1 Axes>"
      ]
     },
     "metadata": {
      "needs_background": "light"
     },
     "output_type": "display_data"
    }
   ],
   "source": [
    "'''Matplotlib 可以将直方图的数字表示转换为图形。 pyplot 子模块的 plt() 函数将包含数据和 bin 数组的数组作为参数，并转换为直方图。'''\n",
    "a = np.array([22,87,5,43,56,73,55,54,11,20,51,5,79,31,27]) \n",
    "plt.hist(a, bins =  [0,20,40,60,80,100]) \n",
    "plt.title(\"histogram\") \n",
    "plt.show()"
   ]
  },
  {
   "cell_type": "code",
   "execution_count": null,
   "metadata": {},
   "outputs": [],
   "source": []
  }
 ],
 "metadata": {
  "kernelspec": {
   "display_name": "Python 3",
   "language": "python",
   "name": "python3"
  },
  "language_info": {
   "codemirror_mode": {
    "name": "ipython",
    "version": 3
   },
   "file_extension": ".py",
   "mimetype": "text/x-python",
   "name": "python",
   "nbconvert_exporter": "python",
   "pygments_lexer": "ipython3",
   "version": "3.7.3"
  }
 },
 "nbformat": 4,
 "nbformat_minor": 2
}
